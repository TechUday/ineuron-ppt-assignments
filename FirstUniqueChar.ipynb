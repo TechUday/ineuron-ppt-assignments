{
 "cells": [
  {
   "cell_type": "code",
   "execution_count": 4,
   "id": "f09f1919",
   "metadata": {},
   "outputs": [
    {
     "name": "stdout",
     "output_type": "stream",
     "text": [
      "2\n",
      "-1\n",
      "0\n"
     ]
    }
   ],
   "source": [
    "def firUniqCharInStr(s):\n",
    "    char_set = {}\n",
    "\n",
    "    # Update frequency count for each character\n",
    "    for i in s:\n",
    "        char_set[i] = char_set.get(i, 0) + 1\n",
    "\n",
    "    # Find the first non-repeating character\n",
    "    for j in range(len(s)):\n",
    "        if char_set[s[j]] == 1:\n",
    "            return j\n",
    "\n",
    "    return -1\n",
    "\n",
    "str1 ='leetcode'\n",
    "print(firstUniqChar(s)) # Output 2\n",
    "str2 =\"loveleetcode\" \n",
    "print(firstUniqChar(s1)) # Output -1\n",
    "str3=\"aabb\"\n",
    "print(firstUniqChar(s2)) # Output 0"
   ]
  },
  {
   "cell_type": "code",
   "execution_count": null,
   "id": "55f5dcc4",
   "metadata": {},
   "outputs": [],
   "source": []
  }
 ],
 "metadata": {
  "kernelspec": {
   "display_name": "Python 3 (ipykernel)",
   "language": "python",
   "name": "python3"
  },
  "language_info": {
   "codemirror_mode": {
    "name": "ipython",
    "version": 3
   },
   "file_extension": ".py",
   "mimetype": "text/x-python",
   "name": "python",
   "nbconvert_exporter": "python",
   "pygments_lexer": "ipython3",
   "version": "3.9.7"
  }
 },
 "nbformat": 4,
 "nbformat_minor": 5
}
